{
 "cells": [
  {
   "cell_type": "code",
   "execution_count": 2,
   "metadata": {
    "id": "gXp9aHnC9XFj"
   },
   "outputs": [
    {
     "name": "stdout",
     "output_type": "stream",
     "text": [
      "Collecting tweepy\n",
      "  Downloading tweepy-3.10.0-py2.py3-none-any.whl (30 kB)\n",
      "Requirement already satisfied: requests[socks]>=2.11.1 in c:\\users\\daniel\\appdata\\local\\programs\\python\\python37\\lib\\site-packages (from tweepy) (2.22.0)\n",
      "Collecting requests-oauthlib>=0.7.0\n",
      "  Downloading requests_oauthlib-1.3.0-py2.py3-none-any.whl (23 kB)\n",
      "Requirement already satisfied: six>=1.10.0 in c:\\users\\daniel\\appdata\\local\\programs\\python\\python37\\lib\\site-packages (from tweepy) (1.12.0)\n",
      "Requirement already satisfied: chardet<3.1.0,>=3.0.2 in c:\\users\\daniel\\appdata\\local\\programs\\python\\python37\\lib\\site-packages (from requests[socks]>=2.11.1->tweepy) (3.0.4)\n",
      "Requirement already satisfied: certifi>=2017.4.17 in c:\\users\\daniel\\appdata\\local\\programs\\python\\python37\\lib\\site-packages (from requests[socks]>=2.11.1->tweepy) (2019.9.11)\n",
      "Requirement already satisfied: idna<2.9,>=2.5 in c:\\users\\daniel\\appdata\\local\\programs\\python\\python37\\lib\\site-packages (from requests[socks]>=2.11.1->tweepy) (2.8)\n",
      "Requirement already satisfied: urllib3!=1.25.0,!=1.25.1,<1.26,>=1.21.1 in c:\\users\\daniel\\appdata\\local\\programs\\python\\python37\\lib\\site-packages (from requests[socks]>=2.11.1->tweepy) (1.25.6)\n",
      "Collecting PySocks!=1.5.7,>=1.5.6; extra == \"socks\"\n",
      "  Downloading PySocks-1.7.1-py3-none-any.whl (16 kB)\n",
      "Collecting oauthlib>=3.0.0\n",
      "  Using cached oauthlib-3.1.0-py2.py3-none-any.whl (147 kB)\n",
      "Installing collected packages: oauthlib, requests-oauthlib, tweepy, PySocks\n",
      "Successfully installed PySocks-1.7.1 oauthlib-3.1.0 requests-oauthlib-1.3.0 tweepy-3.10.0\n"
     ]
    },
    {
     "name": "stderr",
     "output_type": "stream",
     "text": [
      "WARNING: You are using pip version 20.1.1; however, version 21.0.1 is available.\n",
      "You should consider upgrading via the 'c:\\users\\daniel\\appdata\\local\\programs\\python\\python37\\python.exe -m pip install --upgrade pip' command.\n"
     ]
    }
   ],
   "source": [
    "!pip install tweepy\n",
    "import pandas as pd\n",
    "import datetime\n",
    "import sys\n",
    "import tweepy\n",
    "import re\n",
    "import json"
   ]
  },
  {
   "cell_type": "code",
   "execution_count": 17,
   "metadata": {},
   "outputs": [],
   "source": [
    "def remove_emoji(string):\n",
    "    emoji_pattern = re.compile(\"[\"\n",
    "                           u\"\\U0001F600-\\U0001F64F\"  # emoticons\n",
    "                           u\"\\U0001F300-\\U0001F5FF\"  # symbols & pictographs\n",
    "                           u\"\\U0001F680-\\U0001F6FF\"  # transport & map symbols\n",
    "                           u\"\\U0001F1E0-\\U0001F1FF\"  # flags (iOS)\n",
    "                           u\"\\U00002702-\\U000027B0\"\n",
    "                           u\"\\U000024C2-\\U0001F251\"\n",
    "                           \"]+\", flags=re.UNICODE)\n",
    "    \n",
    "    return emoji_pattern.sub(r'', string)"
   ]
  },
  {
   "cell_type": "code",
   "execution_count": 18,
   "metadata": {
    "id": "jBAgBO81abmt"
   },
   "outputs": [],
   "source": [
    "def obter_tweets(usuario, limite=10):\n",
    "    df_tweets = pd.DataFrame(columns=['dat_tweet','user_tweet','tweet'])\n",
    "    resultados = api.user_timeline(screen_name=usuario, count=limite, tweet_mode='extended')\n",
    "    \n",
    "    for r in resultados:\n",
    "        tweet = re.sub(r'http\\S+', '', r.full_text)\n",
    "        tweet = tweet.replace('\\n', ' ')\n",
    "        tweet = remove_emoji(tweet)\n",
    "        dat_tweet = str(r.created_at)\n",
    "        user_tweet = usuario\n",
    "\n",
    "        new_row = {'dat_tweet':dat_tweet, 'user_tweet':user_tweet, 'tweet':tweet}\n",
    "        df_tweets = df_tweets.append(new_row, ignore_index=True)\n",
    "\n",
    "    return df_tweets "
   ]
  },
  {
   "cell_type": "code",
   "execution_count": 19,
   "metadata": {
    "id": "wN1AD410WR2h"
   },
   "outputs": [],
   "source": [
    "def obter_tweets_por_data(usuario):\n",
    "\n",
    "    df_tweets = pd.DataFrame(columns=['dat_tweet','user_tweet','tweet'])\n",
    "    startDate = datetime.datetime(2021, 1, 1, 0, 0, 0)\n",
    "    endDate =   datetime.datetime(2021, 12, 31, 0, 0, 0)\n",
    "    tweets = []\n",
    "  \n",
    "    tmpTweets = api.user_timeline(screen_name= usuario, tweet_mode='extended')\n",
    "    for tweet in tmpTweets:\n",
    "        if tweet.created_at < endDate and tweet.created_at > startDate:\n",
    "            tweets.append(tweet)\n",
    "\n",
    "    while (tmpTweets[-1].created_at > startDate):\n",
    "        print(\"Last Tweet @\", tmpTweets[-1].created_at, \" - fetching some more\")\n",
    "        tmpTweets = api.user_timeline(usuario, max_id = tmpTweets[-1].id)\n",
    "        for tweet in tmpTweets:\n",
    "            if tweet.created_at < endDate and tweet.created_at > startDate:\n",
    "                tweets.append(tweet)\n",
    "  \n",
    "    for tweet in tweets:\n",
    "        msg = re.sub(r'http\\S+', '', tweet.full_text)\n",
    "        msg = msg.replace('\\n', ' ')\n",
    "        msg = remove_emoji(msg)\n",
    "        dat_tweet = str(tweet.created_at)\n",
    "        user_tweet = usuario\n",
    "\n",
    "        new_row = {'dat_tweet':dat_tweet, 'user_tweet':user_tweet, 'tweet':msg}\n",
    "        df_tweets = df_tweets.append(new_row, ignore_index=True)\n",
    "\n",
    "    print(\"DataFrame from @{} ready!\".format(user_tweet))\n",
    "    return(df_tweets)"
   ]
  },
  {
   "cell_type": "code",
   "execution_count": 25,
   "metadata": {
    "id": "5DKlVyPGxBTX"
   },
   "outputs": [],
   "source": [
    "f = open('credentials.json',)\n",
    "data = json.load(f)\n",
    "f.close()\n",
    "\n",
    "consumer_key = data['credentials'][0]['consumer_key']\n",
    "consumer_secret = data['credentials'][0]['consumer_secret']\n",
    "access_token = data['credentials'][0]['access_token']\n",
    "access_token_secret = data['credentials'][0]['access_token_secret']\n",
    "\n",
    "# acessar https://apps.twitter.com para criar uma nova aplicação\n",
    "# cada aplicação tem suas próprias chaves\n",
    "# acessar a aba \"Keys and Access Tokens\"\n",
    "# passa o Consumer Key e o Consumer Secret\n",
    "auth = tweepy.OAuthHandler(consumer_key, \n",
    "                           consumer_secret)\n",
    "\n",
    "# define o token de acesso\n",
    "# para criar basta clicar em \"Create my access token\"\n",
    "# passa o \"Access Token\" e o \"Access Token Secret\"\n",
    "auth.set_access_token(access_token,\n",
    "                      access_token_secret)\n",
    "\n",
    "api = tweepy.API(auth)\n",
    "\n",
    "usuarios = ['infomoney', 'EstadaoEconomia', 'UOLEconomia', 'InvestingBrasil', 'leiamoneytimes']\n",
    "#usuarios = ['infomoney']\n",
    "df = pd.DataFrame(columns=['dat_tweet','user_tweet','tweet'])\n",
    "for usuario in usuarios:\n",
    "    df = df.append(obter_tweets(usuario=usuario, limite=100))\n",
    "    #df = df.append(obter_tweets_por_data(usuario=usuario))"
   ]
  },
  {
   "cell_type": "code",
   "execution_count": 28,
   "metadata": {
    "colab": {
     "base_uri": "https://localhost:8080/",
     "height": 419
    },
    "id": "XHM1eqRsUext",
    "outputId": "0d63c20c-3f09-4f11-9f50-72a59740cb39"
   },
   "outputs": [
    {
     "data": {
      "text/html": [
       "<div>\n",
       "<style scoped>\n",
       "    .dataframe tbody tr th:only-of-type {\n",
       "        vertical-align: middle;\n",
       "    }\n",
       "\n",
       "    .dataframe tbody tr th {\n",
       "        vertical-align: top;\n",
       "    }\n",
       "\n",
       "    .dataframe thead th {\n",
       "        text-align: right;\n",
       "    }\n",
       "</style>\n",
       "<table border=\"1\" class=\"dataframe\">\n",
       "  <thead>\n",
       "    <tr style=\"text-align: right;\">\n",
       "      <th></th>\n",
       "      <th>dat_tweet</th>\n",
       "      <th>user_tweet</th>\n",
       "      <th>tweet</th>\n",
       "    </tr>\n",
       "  </thead>\n",
       "  <tbody>\n",
       "    <tr>\n",
       "      <td>0</td>\n",
       "      <td>2021-04-14 15:10:35</td>\n",
       "      <td>infomoney</td>\n",
       "      <td>RT @AlexSchwartsman: Um polímata às avessas  M...</td>\n",
       "    </tr>\n",
       "    <tr>\n",
       "      <td>1</td>\n",
       "      <td>2021-04-14 14:55:52</td>\n",
       "      <td>infomoney</td>\n",
       "      <td>Bitcoin chega à bolsa dos EUA com estreia da C...</td>\n",
       "    </tr>\n",
       "    <tr>\n",
       "      <td>2</td>\n",
       "      <td>2021-04-14 14:27:10</td>\n",
       "      <td>infomoney</td>\n",
       "      <td>Bernard Madoff, criador da maior fraude financ...</td>\n",
       "    </tr>\n",
       "    <tr>\n",
       "      <td>3</td>\n",
       "      <td>2021-04-14 13:58:44</td>\n",
       "      <td>infomoney</td>\n",
       "      <td>Brasil registra 3.808 novas mortes por Covid-1...</td>\n",
       "    </tr>\n",
       "    <tr>\n",
       "      <td>4</td>\n",
       "      <td>2021-04-14 13:23:20</td>\n",
       "      <td>infomoney</td>\n",
       "      <td>Magazine Luiza anuncia acordo para aquisição d...</td>\n",
       "    </tr>\n",
       "    <tr>\n",
       "      <td>...</td>\n",
       "      <td>...</td>\n",
       "      <td>...</td>\n",
       "      <td>...</td>\n",
       "    </tr>\n",
       "    <tr>\n",
       "      <td>95</td>\n",
       "      <td>2021-04-12 12:13:19</td>\n",
       "      <td>infomoney</td>\n",
       "      <td>Bancos devem voltar a estender prazo de dívida...</td>\n",
       "    </tr>\n",
       "    <tr>\n",
       "      <td>96</td>\n",
       "      <td>2021-04-12 11:58:52</td>\n",
       "      <td>infomoney</td>\n",
       "      <td>Petrobras elegerá novos conselheiros em assemb...</td>\n",
       "    </tr>\n",
       "    <tr>\n",
       "      <td>97</td>\n",
       "      <td>2021-04-12 11:27:58</td>\n",
       "      <td>infomoney</td>\n",
       "      <td>Embaixador dos EUA afirma que Brasil terá de p...</td>\n",
       "    </tr>\n",
       "    <tr>\n",
       "      <td>98</td>\n",
       "      <td>2021-04-12 10:56:33</td>\n",
       "      <td>infomoney</td>\n",
       "      <td>Os 5 assuntos que vão movimentar o mercado nes...</td>\n",
       "    </tr>\n",
       "    <tr>\n",
       "      <td>99</td>\n",
       "      <td>2021-04-12 09:28:50</td>\n",
       "      <td>infomoney</td>\n",
       "      <td>Startup por trás das bikes do Itaú mostra como...</td>\n",
       "    </tr>\n",
       "  </tbody>\n",
       "</table>\n",
       "<p>100 rows × 3 columns</p>\n",
       "</div>"
      ],
      "text/plain": [
       "              dat_tweet user_tweet  \\\n",
       "0   2021-04-14 15:10:35  infomoney   \n",
       "1   2021-04-14 14:55:52  infomoney   \n",
       "2   2021-04-14 14:27:10  infomoney   \n",
       "3   2021-04-14 13:58:44  infomoney   \n",
       "4   2021-04-14 13:23:20  infomoney   \n",
       "..                  ...        ...   \n",
       "95  2021-04-12 12:13:19  infomoney   \n",
       "96  2021-04-12 11:58:52  infomoney   \n",
       "97  2021-04-12 11:27:58  infomoney   \n",
       "98  2021-04-12 10:56:33  infomoney   \n",
       "99  2021-04-12 09:28:50  infomoney   \n",
       "\n",
       "                                                tweet  \n",
       "0   RT @AlexSchwartsman: Um polímata às avessas  M...  \n",
       "1   Bitcoin chega à bolsa dos EUA com estreia da C...  \n",
       "2   Bernard Madoff, criador da maior fraude financ...  \n",
       "3   Brasil registra 3.808 novas mortes por Covid-1...  \n",
       "4   Magazine Luiza anuncia acordo para aquisição d...  \n",
       "..                                                ...  \n",
       "95  Bancos devem voltar a estender prazo de dívida...  \n",
       "96  Petrobras elegerá novos conselheiros em assemb...  \n",
       "97  Embaixador dos EUA afirma que Brasil terá de p...  \n",
       "98  Os 5 assuntos que vão movimentar o mercado nes...  \n",
       "99  Startup por trás das bikes do Itaú mostra como...  \n",
       "\n",
       "[100 rows x 3 columns]"
      ]
     },
     "execution_count": 28,
     "metadata": {},
     "output_type": "execute_result"
    }
   ],
   "source": [
    "df.sort_values(by=['user_tweet', 'dat_tweet'])\n",
    "df.head(100)"
   ]
  },
  {
   "cell_type": "code",
   "execution_count": 27,
   "metadata": {
    "colab": {
     "base_uri": "https://localhost:8080/"
    },
    "id": "pvax6s5IY4sd",
    "outputId": "2d4f85eb-f5c4-4b84-8a55-4eea070993ef"
   },
   "outputs": [
    {
     "data": {
      "text/plain": [
       "(500, 3)"
      ]
     },
     "execution_count": 27,
     "metadata": {},
     "output_type": "execute_result"
    }
   ],
   "source": [
    "df.shape"
   ]
  }
 ],
 "metadata": {
  "colab": {
   "collapsed_sections": [],
   "name": "twitter-crawler.ipynb",
   "provenance": []
  },
  "kernelspec": {
   "display_name": "Python 3",
   "language": "python",
   "name": "python3"
  },
  "language_info": {
   "codemirror_mode": {
    "name": "ipython",
    "version": 3
   },
   "file_extension": ".py",
   "mimetype": "text/x-python",
   "name": "python",
   "nbconvert_exporter": "python",
   "pygments_lexer": "ipython3",
   "version": "3.7.3"
  }
 },
 "nbformat": 4,
 "nbformat_minor": 1
}
